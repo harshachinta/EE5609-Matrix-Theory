{
 "cells": [
  {
   "cell_type": "code",
   "execution_count": 10,
   "metadata": {},
   "outputs": [
    {
     "name": "stdout",
     "output_type": "stream",
     "text": [
      "Determinant is  0.0 , when h=(171/20). Equation represent two straight lines\n",
      "Determinant is  0.0 , when h=(17/2). Equation represent two straight lines\n"
     ]
    }
   ],
   "source": [
    "import numpy as np\n",
    "import math\n",
    "\n",
    "# Validation1: if h=171/20 then does the equation represent two straight lines\n",
    "h = 171/20\n",
    "matrix1 = np.array([[6,h,11],[h,12,31/2],[11,31/2,20]])\n",
    "det=np.linalg.det(matrix1)\n",
    "print('Determinant is ', det, ', when h=(171/20). Equation represent two straight lines')\n",
    "\n",
    "# Validation2: if h=17/2 then does the equation represent two straight lines\n",
    "h1 = 17/2\n",
    "matrix2 = np.array([[6,h1,11],[h1,12,31/2],[11,31/2,20]])\n",
    "det1=np.linalg.det(matrix2)\n",
    "print('Determinant is ', det1, ', when h=(17/2). Equation represent two straight lines')"
   ]
  }
 ],
 "metadata": {
  "kernelspec": {
   "display_name": "Python 3",
   "language": "python",
   "name": "python3"
  },
  "language_info": {
   "codemirror_mode": {
    "name": "ipython",
    "version": 3
   },
   "file_extension": ".py",
   "mimetype": "text/x-python",
   "name": "python",
   "nbconvert_exporter": "python",
   "pygments_lexer": "ipython3",
   "version": "3.8.1"
  }
 },
 "nbformat": 4,
 "nbformat_minor": 4
}
